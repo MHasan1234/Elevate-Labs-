{
 "cells": [
  {
   "cell_type": "markdown",
   "id": "c0af109c",
   "metadata": {},
   "source": [
    "## 1.Importing Libraries"
   ]
  },
  {
   "cell_type": "code",
   "execution_count": 12,
   "id": "bbbff925",
   "metadata": {},
   "outputs": [],
   "source": [
    "import pandas as pd\n",
    "import numpy as np\n",
    "import matplotlib.pyplot as plt\n",
    "import seaborn as sns\n",
    "from sklearn.model_selection import train_test_split\n",
    "from sklearn.preprocessing import StandardScaler\n",
    "from sklearn.linear_model import LogisticRegression\n",
    "from sklearn.metrics import accuracy_score\n",
    "from sklearn.metrics import (\n",
    "    confusion_matrix, classification_report, roc_auc_score,\n",
    "    roc_curve, precision_score, recall_score\n",
    ")"
   ]
  },
  {
   "cell_type": "markdown",
   "id": "7c8482a1",
   "metadata": {},
   "source": [
    "## 2.Loading and Preparing Data"
   ]
  },
  {
   "cell_type": "code",
   "execution_count": 2,
   "id": "496da467",
   "metadata": {},
   "outputs": [],
   "source": [
    "df = pd.read_csv(\"data.csv\")\n",
    "df = df.drop(columns=[\"id\", \"Unnamed: 32\"], errors='ignore')\n",
    "df[\"diagnosis\"] = df[\"diagnosis\"].map({\"M\": 1, \"B\": 0})"
   ]
  },
  {
   "cell_type": "markdown",
   "id": "b708d5ba",
   "metadata": {},
   "source": [
    "## 3.Training/Testing Split and Scaling"
   ]
  },
  {
   "cell_type": "code",
   "execution_count": 3,
   "id": "25da0bb0",
   "metadata": {},
   "outputs": [],
   "source": [
    "X = df.drop(\"diagnosis\", axis=1)\n",
    "y = df[\"diagnosis\"]\n",
    "X_train, X_test, y_train, y_test = train_test_split(X, y, test_size=0.2, random_state=42)\n",
    "\n",
    "scaler = StandardScaler()\n",
    "X_train_scaled = scaler.fit_transform(X_train)\n",
    "X_test_scaled = scaler.transform(X_test)"
   ]
  },
  {
   "cell_type": "markdown",
   "id": "f7bfd8b6",
   "metadata": {},
   "source": [
    "## 4.Training Logistic Regression"
   ]
  },
  {
   "cell_type": "code",
   "execution_count": 4,
   "id": "52adc986",
   "metadata": {},
   "outputs": [],
   "source": [
    "model = LogisticRegression(random_state=42)\n",
    "model.fit(X_train_scaled, y_train)\n",
    "\n",
    "y_pred = model.predict(X_test_scaled)\n",
    "y_prob = model.predict_proba(X_test_scaled)[:, 1]\n"
   ]
  },
  {
   "cell_type": "markdown",
   "id": "1a7ba2b2",
   "metadata": {},
   "source": [
    "## 5.Evaluation"
   ]
  },
  {
   "cell_type": "code",
   "execution_count": 13,
   "id": "fd725fb8",
   "metadata": {},
   "outputs": [
    {
     "name": "stdout",
     "output_type": "stream",
     "text": [
      "Confusion Matrix:\n",
      " [[70  1]\n",
      " [ 2 41]]\n",
      "\n",
      " Classification Report:\n",
      "               precision    recall  f1-score   support\n",
      "\n",
      "           0       0.97      0.99      0.98        71\n",
      "           1       0.98      0.95      0.96        43\n",
      "\n",
      "    accuracy                           0.97       114\n",
      "   macro avg       0.97      0.97      0.97       114\n",
      "weighted avg       0.97      0.97      0.97       114\n",
      "\n",
      "ROC-AUC Score: 0.99737962659679\n",
      "Accuracy Score: 0.9736842105263158\n"
     ]
    }
   ],
   "source": [
    "print(\"Confusion Matrix:\\n\", confusion_matrix(y_test, y_pred))\n",
    "print(\"\\n Classification Report:\\n\", classification_report(y_test, y_pred))\n",
    "print(\"ROC-AUC Score:\", roc_auc_score(y_test, y_prob))\n",
    "print(\"Accuracy Score:\", accuracy_score(y_test, y_pred))\n"
   ]
  },
  {
   "cell_type": "markdown",
   "id": "66d972d9",
   "metadata": {},
   "source": [
    "## 6.ROC Curve"
   ]
  },
  {
   "cell_type": "code",
   "execution_count": 6,
   "id": "8aa1db01",
   "metadata": {},
   "outputs": [
    {
     "data": {
      "image/png": "[encoded data removed]",
      "text/plain": [
       "<Figure size 600x400 with 1 Axes>"
      ]
     },
     "metadata": {},
     "output_type": "display_data"
    }
   ],
   "source": [
    "fpr, tpr, thresholds = roc_curve(y_test, y_prob)\n",
    "plt.figure(figsize=(6, 4))\n",
    "plt.plot(fpr, tpr, label=f\"AUC = {roc_auc_score(y_test, y_prob):.2f}\")\n",
    "plt.plot([0, 1], [0, 1], 'k--')\n",
    "plt.xlabel(\"False Positive Rate\")\n",
    "plt.ylabel(\"True Positive Rate\")\n",
    "plt.title(\"ROC Curve\")\n",
    "plt.legend()\n",
    "plt.grid()\n",
    "plt.show()\n"
   ]
  },
  {
   "cell_type": "markdown",
   "id": "1c240a9f",
   "metadata": {},
   "source": [
    "## 7.Threshold Tuning"
   ]
  },
  {
   "cell_type": "code",
   "execution_count": 9,
   "id": "ff6356ae",
   "metadata": {},
   "outputs": [
    {
     "name": "stdout",
     "output_type": "stream",
     "text": [
      "\n",
      " Precision at threshold=0.3: 0.9130434782608695\n",
      "Recall: 0.9767441860465116\n",
      "Confusion Matrix: \n",
      " [[67  4]\n",
      " [ 1 42]]\n"
     ]
    }
   ],
   "source": [
    "threshold = 0.3\n",
    "y_custom = (y_prob >= threshold).astype(int)\n",
    "print(f\"\\n Precision at threshold={threshold}:\", precision_score(y_test, y_custom))\n",
    "print(\"Recall:\", recall_score(y_test, y_custom))\n",
    "print(\"Confusion Matrix: \\n\", confusion_matrix(y_test, y_custom))"
   ]
  },
  {
   "cell_type": "markdown",
   "id": "0e374597",
   "metadata": {},
   "source": [
    "## 8.Sigmoid Function"
   ]
  },
  {
   "cell_type": "code",
   "execution_count": 11,
   "id": "c832f7a1",
   "metadata": {},
   "outputs": [
    {
     "name": "stdout",
     "output_type": "stream",
     "text": [
      "\n",
      "Sigmoid Function: \n",
      "sigma(z) = 1 / (1 + exp(-z))\n",
      "It converts the linear output of the logistic regression model into a probability between 0 and 1.\n"
     ]
    }
   ],
   "source": [
    "print(\"\\nSigmoid Function: \\nsigma(z) = 1 / (1 + exp(-z))\")\n",
    "print(\"It converts the linear output of the logistic regression model into a probability between 0 and 1.\")"
   ]
  }
 ],
 "metadata": {
  "kernelspec": {
   "display_name": "base",
   "language": "python",
   "name": "python3"
  },
  "language_info": {
   "codemirror_mode": {
    "name": "ipython",
    "version": 3
   },
   "file_extension": ".py",
   "mimetype": "text/x-python",
   "name": "python",
   "nbconvert_exporter": "python",
   "pygments_lexer": "ipython3",
   "version": "3.12.7"
  }
 },
 "nbformat": 4,
 "nbformat_minor": 5
}
